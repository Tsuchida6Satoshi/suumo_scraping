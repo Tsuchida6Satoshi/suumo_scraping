{
 "cells": [
  {
   "cell_type": "code",
   "execution_count": 14,
   "metadata": {},
   "outputs": [
    {
     "name": "stdout",
     "output_type": "stream",
     "text": [
      "Requirement already satisfied: retry in c:\\users\\user102\\appdata\\local\\packages\\pythonsoftwarefoundation.python.3.11_qbz5n2kfra8p0\\localcache\\local-packages\\python311\\site-packages (0.9.2)\n",
      "Requirement already satisfied: decorator>=3.4.2 in c:\\users\\user102\\appdata\\local\\packages\\pythonsoftwarefoundation.python.3.11_qbz5n2kfra8p0\\localcache\\local-packages\\python311\\site-packages (from retry) (5.1.1)\n",
      "Requirement already satisfied: py<2.0.0,>=1.4.26 in c:\\users\\user102\\appdata\\local\\packages\\pythonsoftwarefoundation.python.3.11_qbz5n2kfra8p0\\localcache\\local-packages\\python311\\site-packages (from retry) (1.11.0)\n",
      "Note: you may need to restart the kernel to use updated packages.\n"
     ]
    },
    {
     "name": "stderr",
     "output_type": "stream",
     "text": [
      "\n",
      "[notice] A new release of pip is available: 23.2.1 -> 23.3.1\n",
      "[notice] To update, run: C:\\Users\\user102\\AppData\\Local\\Microsoft\\WindowsApps\\PythonSoftwareFoundation.Python.3.11_qbz5n2kfra8p0\\python.exe -m pip install --upgrade pip\n"
     ]
    }
   ],
   "source": [
    "pip install retry\n"
   ]
  },
  {
   "cell_type": "code",
   "execution_count": 1,
   "metadata": {},
   "outputs": [
    {
     "name": "stdout",
     "output_type": "stream",
     "text": [
      "1ページ目：2.655231475830078秒\n",
      "総取得件数：107\n",
      "完了：33.333%\n",
      "残り時間：0時間0分5秒\n",
      "\n",
      "2ページ目：2.40224027633667秒\n",
      "総取得件数：161\n",
      "完了：66.667%\n",
      "残り時間：0時間0分2秒\n",
      "\n",
      "3ページ目：2.6175379753112793秒\n",
      "総取得件数：262\n",
      "完了：100.0%\n",
      "残り時間：0時間0分0秒\n",
      "\n",
      "総経過時間： 7.675238132476807\n"
     ]
    }
   ],
   "source": [
    "import requests\n",
    "from bs4 import BeautifulSoup\n",
    "from retry import retry\n",
    "import time\n",
    "import numpy as np\n",
    "import csv\n",
    "\n",
    "data_samples = []\n",
    "\n",
    "max_page = 3\n",
    "base_url = 'https://suumo.jp/chintai/kanagawa/sc_yokohamashitsurumi/?page={}'\n",
    "\n",
    "@retry(tries=3, delay=10, backoff=2)\n",
    "def load_page(url):\n",
    "    try:\n",
    "        response = requests.get(url)\n",
    "        response.raise_for_status()\n",
    "        soup = BeautifulSoup(response.content, 'html.parser')\n",
    "        return soup\n",
    "    except requests.RequestException as e:\n",
    "        print(f\"Request error: {e}\")\n",
    "        return None\n",
    "\n",
    "start = time.time()\n",
    "times = []\n",
    "\n",
    "for page in range(1, max_page + 1):\n",
    "    before = time.time()\n",
    "    soup = load_page(base_url.format(page))\n",
    "    \n",
    "    if soup:\n",
    "        mother = soup.find_all(class_='cassetteitem')\n",
    "        for child in mother:\n",
    "            data_home = []\n",
    "            data_home.append(child.find(class_='ui-pct ui-pct--util1').text)\n",
    "            data_home.append(child.find(class_='cassetteitem_content-title').text)\n",
    "            data_home.append(child.find(class_='cassetteitem_detail-col1').text)\n",
    "            children = child.find(class_='cassetteitem_detail-col3')\n",
    "            for grandchild in children.find_all('div'):\n",
    "                data_home.append(grandchild.text)\n",
    "            rooms = child.find(class_='cassetteitem_other')\n",
    "            for room in rooms.find_all(class_='js-cassette_link'):\n",
    "                data_room = []\n",
    "                for id_, grandchild in enumerate(room.find_all('td')):\n",
    "                    if id_ == 2:\n",
    "                        data_room.append(grandchild.text.strip())\n",
    "                    elif id_ == 3:\n",
    "                        data_room.append(grandchild.find(class_='cassetteitem_other-emphasis ui-text--bold').text)\n",
    "                    elif id_ == 5:\n",
    "                        data_room.append(grandchild.find(class_='cassetteitem_madori').text)\n",
    "                data_sample = data_home + data_room\n",
    "                data_samples.append(data_sample)\n",
    "        time.sleep(1)\n",
    "        after = time.time()\n",
    "        running_time = after - before\n",
    "        times.append(running_time)\n",
    "        print(f'{page}ページ目：{running_time}秒')\n",
    "        print(f'総取得件数：{len(data_samples)}')\n",
    "        complete_ratio = round(page / max_page * 100, 3)\n",
    "        print(f'完了：{complete_ratio}%')\n",
    "        running_mean = np.mean(times)\n",
    "        running_required_time = running_mean * (max_page - page)\n",
    "        hour = int(running_required_time / 3600)\n",
    "        minute = int((running_required_time % 3600) / 60)\n",
    "        second = int(running_required_time % 60)\n",
    "        print(f'残り時間：{hour}時間{minute}分{second}秒\\n')\n",
    "\n",
    "finish = time.time()\n",
    "running_all = finish - start\n",
    "print('総経過時間：', running_all)\n",
    "\n",
    "csv_file_name = 'suumo.csv'\n",
    "\n",
    "with open(csv_file_name, mode='w', newline='', encoding='utf-8-sig') as file:\n",
    "    writer = csv.writer(file)\n",
    "    writer.writerow(['カテゴリ', '建物名', '住所', '築年数', '階数', '階', '家賃', '間取り'])\n",
    "    writer.writerows(data_samples)\n"
   ]
  },
  {
   "cell_type": "code",
   "execution_count": 2,
   "metadata": {},
   "outputs": [],
   "source": [
    "import pandas as pd\n",
    "\n",
    "# CSVファイルを読み込む\n",
    "df = pd.read_csv('suumo.csv')\n",
    "\n",
    "# カラムの順序を変更する\n",
    "# 例: '家賃' カラムを先頭に移動する場合\n",
    "new_order = ['カテゴリ', '建物名', '住所', '間取り', '家賃', '階']\n",
    "df = df[new_order]\n",
    "\n",
    "# 変更されたカラム順序でCSVファイルに再保存（エンコーディングを utf-8-sig に設定）\n",
    "df.to_csv('suumo_tsurumi-1-1206_reordered.csv', index=False, encoding='utf-8-sig')\n"
   ]
  },
  {
   "cell_type": "code",
   "execution_count": 3,
   "metadata": {},
   "outputs": [],
   "source": [
    "##new_order = ['カテゴリ', '建物名', '住所', '築年数', '間取り', '家賃', '階数', '階']"
   ]
  }
 ],
 "metadata": {
  "kernelspec": {
   "display_name": "Python 3",
   "language": "python",
   "name": "python3"
  },
  "language_info": {
   "codemirror_mode": {
    "name": "ipython",
    "version": 3
   },
   "file_extension": ".py",
   "mimetype": "text/x-python",
   "name": "python",
   "nbconvert_exporter": "python",
   "pygments_lexer": "ipython3",
   "version": "3.11.7"
  }
 },
 "nbformat": 4,
 "nbformat_minor": 2
}
